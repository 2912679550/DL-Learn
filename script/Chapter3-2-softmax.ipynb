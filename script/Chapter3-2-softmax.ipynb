{
 "cells": [
  {
   "cell_type": "markdown",
   "id": "4a60a4b2",
   "metadata": {},
   "source": [
    "# Softmax实践（图像分类数据集）"
   ]
  },
  {
   "cell_type": "code",
   "execution_count": null,
   "id": "9eae2ef2",
   "metadata": {},
   "outputs": [],
   "source": [
    "import torch\n",
    "import torchvision\n",
    "from torch.utils.data import DataLoader\n",
    "from torchvision import transforms\n",
    "from d2l import torch as d2l"
   ]
  },
  {
   "cell_type": "markdown",
   "id": "7273bb76",
   "metadata": {},
   "source": [
    "引入并下载Fashion-MINIS数据集"
   ]
  },
  {
   "cell_type": "code",
   "execution_count": null,
   "id": "8a05b0c7",
   "metadata": {},
   "outputs": [],
   "source": [
    "mnist_train = torchvision.datasets.FashionMNIST(root = '../data', train= True, \n",
    "                                                transform=transforms.ToTensor(), download=True)\n",
    "mnist_test = torchvision.datasets.FashionMNIST(root = '../data', train= False,\n",
    "                                                transform=transforms.ToTensor(), download=True)\n",
    "print(mnist_train.__len__(), mnist_test.__len__())\n",
    "mnist_train[0][0].shape # 单通道28*28的图像"
   ]
  },
  {
   "cell_type": "markdown",
   "id": "6427c1ba",
   "metadata": {},
   "source": [
    "Fashion-MNIST数据集包含了10个类别的灰度图片，可以通过以下函数来实现将数字索引转换为字符类别："
   ]
  },
  {
   "cell_type": "code",
   "execution_count": null,
   "id": "f3217dbf",
   "metadata": {},
   "outputs": [],
   "source": [
    "def get_fashion_mnist_labels(labels):\n",
    "    \"\"\"Return text labels for the Fashion-MNIST dataset.\"\"\"\n",
    "    text_labels = ['t-shirt', 'trouser', 'pullover', 'dress', 'coat',\n",
    "                   'sandal', 'shirt', 'sneaker', 'bag', 'ankle boot']\n",
    "    return [text_labels[int(i)] for i in labels]"
   ]
  },
  {
   "cell_type": "markdown",
   "id": "ef6edb10",
   "metadata": {},
   "source": [
    "创建函数可视化样本："
   ]
  },
  {
   "cell_type": "code",
   "execution_count": null,
   "id": "5a15f749",
   "metadata": {},
   "outputs": [],
   "source": [
    "def show_images(imgs, num_rows, num_cols, titles=None, scale=1.5):  #@save\n",
    "    \"\"\"绘制图像列表\"\"\"\n",
    "    figsize = (num_cols * scale, num_rows * scale)\n",
    "    _, axes = d2l.plt.subplots(num_rows, num_cols, figsize=figsize)\n",
    "    axes = axes.flatten()\n",
    "    for i, (ax, img) in enumerate(zip(axes, imgs)):\n",
    "        if torch.is_tensor(img):\n",
    "            # 图片张量\n",
    "            ax.imshow(img.numpy())\n",
    "        else:\n",
    "            # PIL图片\n",
    "            ax.imshow(img)\n",
    "        ax.axes.get_xaxis().set_visible(False)\n",
    "        ax.axes.get_yaxis().set_visible(False)\n",
    "        if titles:\n",
    "            ax.set_title(titles[i])\n",
    "    return axes"
   ]
  },
  {
   "cell_type": "code",
   "execution_count": null,
   "id": "cc141e1c",
   "metadata": {},
   "outputs": [],
   "source": [
    "X,y = next(iter(DataLoader(mnist_train, batch_size= 18)))\n",
    "# X,y = DataLoader(mnist_train, batch_size= 18)[0]\n",
    "show_images(X.reshape(18,28,28), 2 ,9 , titles=get_fashion_mnist_labels(y))"
   ]
  },
  {
   "cell_type": "markdown",
   "id": "f0542481",
   "metadata": {},
   "source": [
    "## 读取小批量"
   ]
  },
  {
   "cell_type": "code",
   "execution_count": null,
   "id": "d73f6f91",
   "metadata": {},
   "outputs": [],
   "source": [
    "batch_size = 256\n",
    "def get_dataloader_works():\n",
    "    return 4\n",
    "\n",
    "train_iter = DataLoader(mnist_train, batch_size, shuffle=True , num_workers=get_dataloader_works())"
   ]
  },
  {
   "cell_type": "markdown",
   "id": "9d296a86",
   "metadata": {},
   "source": [
    "看一下读取训练数据所需的时间"
   ]
  },
  {
   "cell_type": "code",
   "execution_count": null,
   "id": "d057d606",
   "metadata": {},
   "outputs": [],
   "source": [
    "timer = d2l.Timer()\n",
    "for X, y in train_iter:\n",
    "    continue\n",
    "f'{timer.stop():.2f} sec'"
   ]
  },
  {
   "cell_type": "markdown",
   "id": "7be985b1",
   "metadata": {},
   "source": [
    "得到一个汇总的load_data函数，用于获取和读取Fashion-MNIST数据集，该函数返回训练集和验证集的数据迭代器，并可以接收`resize`选项"
   ]
  },
  {
   "cell_type": "code",
   "execution_count": null,
   "id": "b588565d",
   "metadata": {},
   "outputs": [],
   "source": [
    "def loat_data_fashion_mnist(batch_size , resize = None):\n",
    "    trans = [transforms.ToTensor()]\n",
    "    if resize:\n",
    "        trans.insert(0, transforms.Resize(resize))\n",
    "    trans = transforms.Compose(trans)\n",
    "    mnist_train = torchvision.datasets.FashionMNIST(\n",
    "        root = './data', train= True, transform=trans, download=True)\n",
    "    mnist_test = torchvision.datasets.FashionMNIST(\n",
    "        root = './data', train= False, transform=trans, download=True)\n",
    "    num_workers = get_dataloader_works()\n",
    "    train_iter = DataLoader(mnist_train, batch_size, shuffle=True , num_workers=num_workers)\n",
    "    test_iter = DataLoader(mnist_test, batch_size, shuffle=False , num_workers=num_workers)\n",
    "    return train_iter, test_iter"
   ]
  },
  {
   "cell_type": "code",
   "execution_count": null,
   "id": "7d31c7e6",
   "metadata": {},
   "outputs": [],
   "source": [
    "# 测试函数的图像大小调整能力\n",
    "tran_iter , test_iter = loat_data_fashion_mnist(32)\n",
    "for X, y in tran_iter:\n",
    "    print(X.shape, y.shape)\n",
    "    break"
   ]
  },
  {
   "cell_type": "markdown",
   "id": "7a9d7b1c",
   "metadata": {},
   "source": [
    "# Softmax 从零实现"
   ]
  },
  {
   "cell_type": "code",
   "execution_count": null,
   "id": "4fdf018e",
   "metadata": {},
   "outputs": [],
   "source": [
    "import torch\n",
    "from IPython import display\n",
    "\n",
    "batch_size = 256\n",
    "train_iter , test_iter = loat_data_fashion_mnist(batch_size)"
   ]
  },
  {
   "cell_type": "markdown",
   "id": "f8e255f3",
   "metadata": {},
   "source": [
    "由于原始数据集中的乜咯赝本都是28×28的图像，所以在单纯的Softmax实现中，只能将其展平尾一个784维度的向量作为输入，而输出则是一个维度为10的向量\n",
    "\n",
    "因此，**权重**将构成一个`784 x 10`的矩阵，**偏置**将构成一个`1 x 10`的向量。同样使用正态分布初始化权重W，偏置初始化为0"
   ]
  },
  {
   "cell_type": "code",
   "execution_count": null,
   "id": "6b7c8985",
   "metadata": {},
   "outputs": [],
   "source": [
    "num_inputs = 784\n",
    "num_outputs = 10\n",
    "W = torch.normal(0 , 0.01 , size=(num_inputs , num_outputs), requires_grad = True)\n",
    "b = torch.zeros(num_outputs , requires_grad= True)"
   ]
  },
  {
   "cell_type": "markdown",
   "id": "c1d3ab5d",
   "metadata": {},
   "source": [
    "Softmax本质上由三个步骤组成：\n",
    "- 对每个项求幂\n",
    "- 对每一行求和（小批量中每个样本是一行），得到每个样本的规范化常数\n",
    "- 将每一行除以其规范化常数，确保结果的和为1\n",
    "也即：\n",
    "$$\n",
    "\\mathrm{softmax}(\\mathbf{X})_{ij} = \\frac{\\exp(\\mathbf{X}_{ij})}{\\sum_k \\exp(\\mathbf{X}_{ik})}.\n",
    "$$"
   ]
  },
  {
   "cell_type": "code",
   "execution_count": null,
   "id": "ffafb827",
   "metadata": {},
   "outputs": [],
   "source": [
    "def sofrmax(X):\n",
    "    X_exp = torch.exp(X)\n",
    "    partition = X_exp.sum(dim= 1, keepdim=True)\n",
    "    return X_exp / partition  # 这里的X_exp和partition都是小批量中每个样本的一行"
   ]
  },
  {
   "cell_type": "markdown",
   "id": "a02bc346",
   "metadata": {},
   "source": [
    "***定义模型***"
   ]
  },
  {
   "cell_type": "code",
   "execution_count": null,
   "id": "0bc1e6c3",
   "metadata": {},
   "outputs": [],
   "source": [
    "def net(X):\n",
    "    return sofrmax(torch.matmul(X.reshape((-1, W.shape[0])), W) + b)"
   ]
  },
  {
   "cell_type": "markdown",
   "id": "996fa2c3",
   "metadata": {},
   "source": [
    "***定义损失函数***"
   ]
  },
  {
   "cell_type": "code",
   "execution_count": null,
   "id": "3cc9a7a2",
   "metadata": {},
   "outputs": [],
   "source": [
    "# 只需要一行代码就可以实现交叉熵\n",
    "def cross_entropy(y_hat, y):\n",
    "    return - torch.log(y_hat[range(len(y_hat)), y])"
   ]
  },
  {
   "cell_type": "markdown",
   "id": "f5726d62",
   "metadata": {},
   "source": [
    "*关于这部分索引的实验性代码：*"
   ]
  },
  {
   "cell_type": "code",
   "execution_count": null,
   "id": "e84086ed",
   "metadata": {},
   "outputs": [],
   "source": [
    "forward = net(X[0])\n",
    "print(forward.shape)\n",
    "a = [range(len(forward)), y[0]] # 需要确保y[0]的长度与forward的第一维长度相同\n",
    "print(forward[a])"
   ]
  },
  {
   "cell_type": "markdown",
   "id": "fdb7d098",
   "metadata": {},
   "source": [
    "***分类精度***"
   ]
  },
  {
   "cell_type": "code",
   "execution_count": null,
   "id": "0189455a",
   "metadata": {},
   "outputs": [],
   "source": [
    "def accuracy(y_hat , y):\n",
    "    \"\"\"计算分类准确率\"\"\"\n",
    "    if len(y_hat.shape) > 1 and y_hat.shape[1] > 1:\n",
    "        # 获取每行的最大值索引,可以理解为消融掉列方向的自由度，结果为一个列向量\n",
    "        y_hat = y_hat.argmax(axis=1)  \n",
    "    cmp = y_hat.type(y.dtype) == y\n",
    "    return float(cmp.type(y.dtype).sum())"
   ]
  },
  {
   "cell_type": "markdown",
   "id": "d5aadff5",
   "metadata": {},
   "source": [
    "至此，可以构造一个数据评估器，对于任意的数据迭代器，都可以评估任意模型在其上运行的精度"
   ]
  },
  {
   "cell_type": "code",
   "execution_count": null,
   "id": "4e82c75f",
   "metadata": {},
   "outputs": [],
   "source": [
    "def evaluate_accuracy(net , data_iter):\n",
    "    if isinstance(net, torch.nn.Module):    # 如果net是torch的Module类型\n",
    "        net.eval()\n",
    "    metric = d2l.Accumulator(2) # 正确预测数, 总预测数\n",
    "    with torch.no_grad():\n",
    "        for X,y in data_iter:\n",
    "            # accuracy返回的是当前批次中正确预测的数量，y.numel()是当前批次的样本数量\n",
    "            metric.add(accuracy(net(X) , y), y.numel())\n",
    "    return metric[0] / metric[1]\n",
    "    "
   ]
  },
  {
   "cell_type": "markdown",
   "id": "e41edee9",
   "metadata": {},
   "source": [
    "测试evaluate函数"
   ]
  },
  {
   "cell_type": "code",
   "execution_count": null,
   "id": "aa171d5a",
   "metadata": {},
   "outputs": [],
   "source": [
    "evaluate_accuracy(net , test_iter)"
   ]
  },
  {
   "cell_type": "markdown",
   "id": "ed5b9c26",
   "metadata": {},
   "source": [
    "### 训练"
   ]
  },
  {
   "cell_type": "code",
   "execution_count": null,
   "id": "7830b277",
   "metadata": {},
   "outputs": [],
   "source": [
    "def train_epoch_ch3(net, train_iter, loss, updater):  \n",
    "    # 将模型设置为训练模式\n",
    "    if isinstance(net, torch.nn.Module):\n",
    "        net.train()\n",
    "    # 训练损失总和、训练准确度总和、样本数\n",
    "    metric = d2l.Accumulator(3)\n",
    "    for X, y in train_iter:\n",
    "        # 计算梯度并更新参数\n",
    "        y_hat = net(X)\n",
    "        l = loss(y_hat, y)\n",
    "        if isinstance(updater, torch.optim.Optimizer):\n",
    "            # 使用PyTorch内置的优化器和损失函数\n",
    "            updater.zero_grad()\n",
    "            l.mean().backward()\n",
    "            updater.step()\n",
    "        else:\n",
    "            # 使用定制的优化器和损失函数\n",
    "            l.sum().backward()\n",
    "            updater(X.shape[0])\n",
    "        metric.add(float(l.sum()), accuracy(y_hat, y), y.numel())\n",
    "    # 返回训练损失和训练精度\n",
    "    return metric[0] / metric[2], metric[1] / metric[2]"
   ]
  },
  {
   "cell_type": "markdown",
   "id": "64a9fce2",
   "metadata": {},
   "source": [
    "在展示训练函数的实现之前，我们[**定义一个在动画中绘制数据的实用程序类**]`Animator`，\n",
    "它能够简化本书其余部分的代码。"
   ]
  },
  {
   "cell_type": "code",
   "execution_count": null,
   "id": "78a698e5",
   "metadata": {},
   "outputs": [],
   "source": [
    "class Animator:  #@save\n",
    "    \"\"\"在动画中绘制数据\"\"\"\n",
    "    def __init__(self, xlabel=None, ylabel=None, legend=None, xlim=None,\n",
    "                 ylim=None, xscale='linear', yscale='linear',\n",
    "                 fmts=('-', 'm--', 'g-.', 'r:'), nrows=1, ncols=1,\n",
    "                 figsize=(3.5, 2.5)):\n",
    "        # 增量地绘制多条线\n",
    "        if legend is None:\n",
    "            legend = []\n",
    "        d2l.use_svg_display()\n",
    "        self.fig, self.axes = d2l.plt.subplots(nrows, ncols, figsize=figsize)\n",
    "        if nrows * ncols == 1:\n",
    "            self.axes = [self.axes, ]\n",
    "        # 使用lambda函数捕获参数\n",
    "        self.config_axes = lambda: d2l.set_axes(\n",
    "            self.axes[0], xlabel, ylabel, xlim, ylim, xscale, yscale, legend)\n",
    "        self.X, self.Y, self.fmts = None, None, fmts\n",
    "\n",
    "    def add(self, x, y):\n",
    "        # 向图表中添加多个数据点\n",
    "        if not hasattr(y, \"__len__\"):\n",
    "            y = [y]\n",
    "        n = len(y)\n",
    "        if not hasattr(x, \"__len__\"):\n",
    "            x = [x] * n\n",
    "        if not self.X:\n",
    "            self.X = [[] for _ in range(n)]\n",
    "        if not self.Y:\n",
    "            self.Y = [[] for _ in range(n)]\n",
    "        for i, (a, b) in enumerate(zip(x, y)):\n",
    "            if a is not None and b is not None:\n",
    "                self.X[i].append(a)\n",
    "                self.Y[i].append(b)\n",
    "        self.axes[0].cla()\n",
    "        for x, y, fmt in zip(self.X, self.Y, self.fmts):\n",
    "            self.axes[0].plot(x, y, fmt)\n",
    "        self.config_axes()\n",
    "        display.display(self.fig)\n",
    "        display.clear_output(wait=True)"
   ]
  },
  {
   "cell_type": "markdown",
   "id": "fa33884f",
   "metadata": {},
   "source": [
    "### 定义训练函数"
   ]
  },
  {
   "cell_type": "code",
   "execution_count": null,
   "id": "395ee15e",
   "metadata": {},
   "outputs": [],
   "source": [
    "def train_ch3(net , train_iter, test_iter ,loss, num_epochs , updater):\n",
    "    animator = Animator(xlabel='epoch', xlim=[1, num_epochs], ylim=[0.3, 0.9],\n",
    "                        legend=['train loss', 'train acc', 'test acc'])\n",
    "    for epoch in range(num_epochs):\n",
    "        train_metrics = train_epoch_ch3(net, train_iter, loss, updater)\n",
    "        test_acc = evaluate_accuracy(net, test_iter)\n",
    "        animator.add(epoch + 1, train_metrics + (test_acc,))\n",
    "    train_loss, train_acc = train_metrics\n",
    "    assert train_loss < 0.5, train_loss\n",
    "    assert train_acc <= 1 and train_acc > 0.7, train_acc\n",
    "    assert test_acc <= 1 and test_acc > 0.7, test_acc"
   ]
  },
  {
   "cell_type": "code",
   "execution_count": null,
   "id": "17974a39",
   "metadata": {},
   "outputs": [],
   "source": [
    "lr = 0.1\n",
    "\n",
    "def updater(batch_size):\n",
    "    return d2l.sgd([W, b], lr, batch_size)"
   ]
  },
  {
   "cell_type": "code",
   "execution_count": null,
   "id": "fe75999e",
   "metadata": {},
   "outputs": [],
   "source": [
    "num_epochs = 10\n",
    "train_ch3(net, train_iter, test_iter, cross_entropy, num_epochs, updater)"
   ]
  },
  {
   "cell_type": "markdown",
   "id": "61343e94",
   "metadata": {},
   "source": [
    "### 预测"
   ]
  },
  {
   "cell_type": "code",
   "execution_count": null,
   "id": "ccf8cfe4",
   "metadata": {},
   "outputs": [],
   "source": [
    "def predict_ch3(net, test_iter, n=6):  #@save\n",
    "    \"\"\"预测标签（定义见第3章）\"\"\"\n",
    "    for X, y in test_iter:\n",
    "        break\n",
    "    trues = d2l.get_fashion_mnist_labels(y)\n",
    "    preds = d2l.get_fashion_mnist_labels(net(X).argmax(axis=1))\n",
    "    titles = [true +'\\n' + pred for true, pred in zip(trues, preds)]\n",
    "    d2l.show_images(\n",
    "        X[0:n].reshape((n, 28, 28)), 1, n, titles=titles[0:n])\n",
    "\n",
    "predict_ch3(net, test_iter)"
   ]
  }
 ],
 "metadata": {
  "kernelspec": {
   "display_name": "base",
   "language": "python",
   "name": "python3"
  },
  "language_info": {
   "codemirror_mode": {
    "name": "ipython",
    "version": 3
   },
   "file_extension": ".py",
   "mimetype": "text/x-python",
   "name": "python",
   "nbconvert_exporter": "python",
   "pygments_lexer": "ipython3",
   "version": "3.11.5"
  }
 },
 "nbformat": 4,
 "nbformat_minor": 5
}
